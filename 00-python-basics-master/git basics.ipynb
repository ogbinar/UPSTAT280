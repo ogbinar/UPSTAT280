{
 "cells": [
  {
   "cell_type": "markdown",
   "metadata": {},
   "source": [
    "https://github.com/git-guides/\n",
    "\n",
    "### Installation\n",
    "#### Windows\n",
    "open anaconda command prompt\n",
    "conda install git\n",
    "\n",
    "#### Others\n",
    "https://github.com/git-guides/install-git\n",
    "\n",
    "### Save credentials to git \n",
    "create github account\n",
    "git config --global credential.helper store\n",
    "\n",
    "### Initialize git folder\n",
    "git init\n",
    "git remote add <remote_name> <remote_repo_url>\n",
    "git push -u <remote_name> <local_branch_name>\n",
    "\n",
    "### Clone workflow\n",
    "git clone <repository url>\n",
    "\n",
    "### Push workflow\n",
    "git add .\n",
    "git commit -m \"message\"\n",
    "git push\n",
    "\n",
    "### Pull workflow\n",
    "git pull\n",
    "\n"
   ]
  },
  {
   "cell_type": "code",
   "execution_count": null,
   "metadata": {},
   "outputs": [],
   "source": []
  }
 ],
 "metadata": {
  "kernelspec": {
   "display_name": "Python 3",
   "language": "python",
   "name": "python3"
  },
  "language_info": {
   "codemirror_mode": {
    "name": "ipython",
    "version": 3
   },
   "file_extension": ".py",
   "mimetype": "text/x-python",
   "name": "python",
   "nbconvert_exporter": "python",
   "pygments_lexer": "ipython3",
   "version": "3.8.3"
  }
 },
 "nbformat": 4,
 "nbformat_minor": 4
}
