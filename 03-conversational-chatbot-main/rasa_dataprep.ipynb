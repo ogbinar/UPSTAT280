{
 "cells": [
  {
   "cell_type": "code",
   "execution_count": 2,
   "metadata": {},
   "outputs": [],
   "source": [
    "import pandas as pd\n",
    "import yaml"
   ]
  },
  {
   "cell_type": "markdown",
   "metadata": {},
   "source": [
    "# NLU"
   ]
  },
  {
   "cell_type": "code",
   "execution_count": 3,
   "metadata": {},
   "outputs": [],
   "source": [
    "nlu_df = pd.read_excel(\"chatbot_covid.xlsx\", sheet_name=\"nlu\")"
   ]
  },
  {
   "cell_type": "code",
   "execution_count": 4,
   "metadata": {},
   "outputs": [
    {
     "data": {
      "text/html": [
       "<div>\n",
       "<style scoped>\n",
       "    .dataframe tbody tr th:only-of-type {\n",
       "        vertical-align: middle;\n",
       "    }\n",
       "\n",
       "    .dataframe tbody tr th {\n",
       "        vertical-align: top;\n",
       "    }\n",
       "\n",
       "    .dataframe thead th {\n",
       "        text-align: right;\n",
       "    }\n",
       "</style>\n",
       "<table border=\"1\" class=\"dataframe\">\n",
       "  <thead>\n",
       "    <tr style=\"text-align: right;\">\n",
       "      <th></th>\n",
       "      <th>text</th>\n",
       "      <th>intent</th>\n",
       "    </tr>\n",
       "  </thead>\n",
       "  <tbody>\n",
       "    <tr>\n",
       "      <th>0</th>\n",
       "      <td>Are corona virus and COVID-19 different?</td>\n",
       "      <td>covid_intro</td>\n",
       "    </tr>\n",
       "    <tr>\n",
       "      <th>1</th>\n",
       "      <td>Could you tell me more about COVID-19?</td>\n",
       "      <td>covid_intro</td>\n",
       "    </tr>\n",
       "    <tr>\n",
       "      <th>2</th>\n",
       "      <td>Give me more information on coronavirus.</td>\n",
       "      <td>covid_intro</td>\n",
       "    </tr>\n",
       "    <tr>\n",
       "      <th>3</th>\n",
       "      <td>I want to know about Covid</td>\n",
       "      <td>covid_intro</td>\n",
       "    </tr>\n",
       "    <tr>\n",
       "      <th>4</th>\n",
       "      <td>is coronavirus fatal</td>\n",
       "      <td>covid_intro</td>\n",
       "    </tr>\n",
       "    <tr>\n",
       "      <th>...</th>\n",
       "      <td>...</td>\n",
       "      <td>...</td>\n",
       "    </tr>\n",
       "    <tr>\n",
       "      <th>99</th>\n",
       "      <td>see you around</td>\n",
       "      <td>goodbye</td>\n",
       "    </tr>\n",
       "    <tr>\n",
       "      <th>100</th>\n",
       "      <td>are you a bot?</td>\n",
       "      <td>bot_challenge</td>\n",
       "    </tr>\n",
       "    <tr>\n",
       "      <th>101</th>\n",
       "      <td>are you a human?</td>\n",
       "      <td>bot_challenge</td>\n",
       "    </tr>\n",
       "    <tr>\n",
       "      <th>102</th>\n",
       "      <td>am I talking to a bot?</td>\n",
       "      <td>bot_challenge</td>\n",
       "    </tr>\n",
       "    <tr>\n",
       "      <th>103</th>\n",
       "      <td>am I talking to a human?</td>\n",
       "      <td>bot_challenge</td>\n",
       "    </tr>\n",
       "  </tbody>\n",
       "</table>\n",
       "<p>104 rows × 2 columns</p>\n",
       "</div>"
      ],
      "text/plain": [
       "                                         text         intent\n",
       "0    Are corona virus and COVID-19 different?   covid_intro \n",
       "1      Could you tell me more about COVID-19?   covid_intro \n",
       "2    Give me more information on coronavirus.   covid_intro \n",
       "3                  I want to know about Covid   covid_intro \n",
       "4                        is coronavirus fatal   covid_intro \n",
       "..                                        ...            ...\n",
       "99                             see you around        goodbye\n",
       "100                            are you a bot?  bot_challenge\n",
       "101                          are you a human?  bot_challenge\n",
       "102                    am I talking to a bot?  bot_challenge\n",
       "103                  am I talking to a human?  bot_challenge\n",
       "\n",
       "[104 rows x 2 columns]"
      ]
     },
     "execution_count": 4,
     "metadata": {},
     "output_type": "execute_result"
    }
   ],
   "source": [
    "nlu_df"
   ]
  },
  {
   "cell_type": "code",
   "execution_count": 11,
   "metadata": {},
   "outputs": [
    {
     "name": "stdout",
     "output_type": "stream",
     "text": [
      "Found intent:  covid_intro \n",
      "Found text:  Are corona virus and COVID-19 different?\n",
      "Found text:  Could you tell me more about COVID-19?\n",
      "Found text:  Give me more information on coronavirus.\n",
      "Found text:  I want to know about Covid\n",
      "Found text:  is coronavirus fatal\n",
      "Found text:  What do you know about coronavirus\n",
      "Found text:  what makes a corona virus a coronavirus\n",
      "Found text:  why is corona called corona virus\n",
      "Found text:  Wondering about the corona Virus?\n",
      "Found text:  what is covid 19\n",
      "Found intent:  covid_origin\n",
      "Found text:  Can you explain how Covid19 started?\n",
      "Found text:  Can you tell me how this virus started?\n",
      "Found text:  did coronavirus come from bats\n",
      "Found text:  how coronavirus began\n",
      "Found text:  How is coronavirus spreading?\n",
      "Found text:  In which way did corona virus appear?\n",
      "Found text:  Tell me where does coronavirus come from.\n",
      "Found text:  What is the point of origin for the Corona virus?\n",
      "Found text:  where coronavirus come from 2020\n",
      "Found text:  Which city had the first case of the Corona virus?\n",
      "Found intent:  symptoms_info\n",
      "Found text:  are covid-19 tests free\n",
      "Found text:  Coronavirus and breathing.\r\n",
      "\n",
      "Found text:  Detail me the symptoms of coronavirus.\n",
      "Found text:  Do you experience high fever with corona virus?\n",
      "Found text:  does covid-19 start with a runny nose\n",
      "Found text:  how coronavirus is caused\n",
      "Found text:  How does a person feel if infected with corona\n",
      "Found text:  I want to learn more about covid symptoms\n",
      "Found text:  Is runny nose a COVID-19 symptom?\n",
      "Found text:  what are symtpoms of the corona virus\n",
      "Found intent:  emergency_contact\n",
      "Found text:  Are there doctor numbers listed?\n",
      "Found text:  Coronavirus emergency contact number.\n",
      "Found text:  Do you have the contacts?\n",
      "Found text:  How do we reach out to relevant authorities during the pandemic?\n",
      "Found text:  Is there a phone number I can call if I have questions?\n",
      "Found text:  Show me emergency contact information for local authorities.\n",
      "Found text:  what email address should I use if\n",
      "Found text:  What is the number to call?\n",
      "Found text:  Where should i go in case i have shown symptoms?\n",
      "Found text:  Who do I have to call for an emergency?\n",
      "Found intent:  precautions\n",
      "Found text:  Are masks the only option for preventing Covid19?\n",
      "Found text:  Do i have to wash my hands all the time?\n",
      "Found text:  How can I stop spread of Covid19?\n",
      "Found text:  I am wondering how I can protect myself from coronavirus.\n",
      "Found text:  Is a mask necessary to avoid contracting COVID-19?\n",
      "Found text:  Let's share the do's and don'ts for Covid19.\n",
      "Found text:  Should I avoid touching things?\n",
      "Found text:  Show me how to wear my mask.\n",
      "Found text:  What can I do to avoid catching the virus?\n",
      "Found text:  which mask can prevent the infection of corona virus\n",
      "Found intent:  current_numbers\n",
      "Found text:  are coronavirus cases declining in Philippines\n",
      "Found text:  Are there any updates on Covid-19?\n",
      "Found text:  can you die from corona virus\n",
      "Found text:  Corona and its remergence.\n",
      "Found text:  Covid19 post Philippines facts.\n",
      "Found text:  Does each country have their own records for the Covid19 virus?\n",
      "Found text:  Has the number of infected people decreased?\n",
      "Found text:  how are cats exposed to corona virus\n",
      "Found text:  how does the corona virus spread from human to human\n",
      "Found text:  how many have been healed from corona virus\n",
      "Found intent:  medication\n",
      "Found text:  Are fruits, vegetables and herbs useful in fighting the coronavirus?\n",
      "Found text:  Can I use antibiotics to help fight the virus\n",
      "Found text:  Corona and turmeric.\n",
      "Found text:  Covid19 intake of paracetamol is not sufficient.\n",
      "Found text:  how has the covid 19 vaccine effected the test subjects\n",
      "Found text:  I want information that cannot be used for corona\n",
      "Found text:  Is there a cure?\n",
      "Found text:  Is there any medicine I should not take for corona virus\n",
      "Found text:  Should I take an aspirin?\n",
      "Found text:  What drug shold I take\n",
      "Found intent:  how_spreading\n",
      "Found text:  How can corona be expaded\n",
      "Found text:  How does Corona virus spread?\n",
      "Found text:  How will the disease catch you from me or any other person?\n",
      "Found text:  I want to know if the Corona Virus is airborne or not.\n",
      "Found text:  Is covid-19 airborne?\n",
      "Found text:  Is the virus airborne?\n",
      "Found text:  Show me how does coronavirus spread in a population\n",
      "Found text:  What are the modes of transmission for COVID-19?\n",
      "Found text:  where are the us cases of corona virus\n",
      "Found text:  Why is the virus being spread more and more?\n",
      "Found intent:  name\n",
      "Found text:  I am [Sara](name)\n",
      "Found text:  My name [Sara](name)\n",
      "Found intent:  greet\n",
      "Found text:  hey\n",
      "Found text:  hello\n",
      "Found text:  hi\n",
      "Found text:  hello there\n",
      "Found text:  good morning\n",
      "Found text:  good evening\n",
      "Found text:  moin\n",
      "Found text:  hey there\n",
      "Found text:  let's go\n",
      "Found intent:  goodbye\n",
      "Found text:  good afternoon\n",
      "Found text:  cu\n",
      "Found text:  good by\n",
      "Found text:  cee you later\n",
      "Found text:  good night\n",
      "Found text:  bye\n",
      "Found text:  goodbye\n",
      "Found text:  have a nice day\n",
      "Found text:  see you around\n",
      "Found intent:  bot_challenge\n",
      "Found text:  are you a bot?\n",
      "Found text:  are you a human?\n",
      "Found text:  am I talking to a bot?\n",
      "Found text:  am I talking to a human?\n"
     ]
    }
   ],
   "source": [
    "# a YAML is like a dictionary, so let's create a dictionary\n",
    "new_nlu_yml = {}\n",
    "new_nlu_yml['version'] = '2.0'\n",
    "\n",
    "# create a list of intents\n",
    "intent_list = []\n",
    "\n",
    "# iterate thru all intents\n",
    "for intent in nlu_df['intent'].unique():\n",
    "    \n",
    "    # create a sub dictionary for intents row, it will look like this\n",
    "    # intent: intent_value\n",
    "    # example: string_of_examples\n",
    "    intent_dict = {}\n",
    "    intent_dict['intent'] = str(intent).strip()\n",
    "    \n",
    "    tmp_df = nlu_df[nlu_df['intent']==intent]\n",
    "    print(\"Found intent: \", intent)\n",
    "    \n",
    "    # iterate thru all the examples and concatenate them into one big string\n",
    "    example_txt = \"\"\n",
    "    for index, row in tmp_df.iterrows():\n",
    "        tmp_txt = row['text']\n",
    "        print(\"Found text: \", tmp_txt)\n",
    "        \n",
    "        tmp_txt = \"\".join([\"- \",tmp_txt.strip(),\"\\n\"])\n",
    "        example_txt = \"\".join([example_txt,tmp_txt])\n",
    "\n",
    "    intent_dict['examples'] = example_txt\n",
    "    intent_list.append(intent_dict)\n",
    "    \n",
    "# assign the list to the nlu keyword \n",
    "new_nlu_yml['nlu'] = intent_list"
   ]
  },
  {
   "cell_type": "code",
   "execution_count": 22,
   "metadata": {},
   "outputs": [
    {
     "data": {
      "text/plain": [
       "{'version': '2.0',\n",
       " 'nlu': [{'intent': 'covid_intro',\n",
       "   'examples': '- Are corona virus and COVID-19 different?\\n- Could you tell me more about COVID-19?\\n- Give me more information on coronavirus.\\n- I want to know about Covid\\n- is coronavirus fatal\\n- What do you know about coronavirus\\n- what makes a corona virus a coronavirus\\n- why is corona called corona virus\\n- Wondering about the corona Virus?\\n- what is covid 19\\n'},\n",
       "  {'intent': 'covid_origin',\n",
       "   'examples': '- Can you explain how Covid19 started?\\n- Can you tell me how this virus started?\\n- did coronavirus come from bats\\n- how coronavirus began\\n- How is coronavirus spreading?\\n- In which way did corona virus appear?\\n- Tell me where does coronavirus come from.\\n- What is the point of origin for the Corona virus?\\n- where coronavirus come from 2020\\n- Which city had the first case of the Corona virus?\\n'},\n",
       "  {'intent': 'symptoms_info',\n",
       "   'examples': '- are covid-19 tests free\\n- Coronavirus and breathing.\\n- Detail me the symptoms of coronavirus.\\n- Do you experience high fever with corona virus?\\n- does covid-19 start with a runny nose\\n- how coronavirus is caused\\n- How does a person feel if infected with corona\\n- I want to learn more about covid symptoms\\n- Is runny nose a COVID-19 symptom?\\n- what are symtpoms of the corona virus\\n'},\n",
       "  {'intent': 'emergency_contact',\n",
       "   'examples': '- Are there doctor numbers listed?\\n- Coronavirus emergency contact number.\\n- Do you have the contacts?\\n- How do we reach out to relevant authorities during the pandemic?\\n- Is there a phone number I can call if I have questions?\\n- Show me emergency contact information for local authorities.\\n- what email address should I use if\\n- What is the number to call?\\n- Where should i go in case i have shown symptoms?\\n- Who do I have to call for an emergency?\\n'},\n",
       "  {'intent': 'precautions',\n",
       "   'examples': \"- Are masks the only option for preventing Covid19?\\n- Do i have to wash my hands all the time?\\n- How can I stop spread of Covid19?\\n- I am wondering how I can protect myself from coronavirus.\\n- Is a mask necessary to avoid contracting COVID-19?\\n- Let's share the do's and don'ts for Covid19.\\n- Should I avoid touching things?\\n- Show me how to wear my mask.\\n- What can I do to avoid catching the virus?\\n- which mask can prevent the infection of corona virus\\n\"},\n",
       "  {'intent': 'current_numbers',\n",
       "   'examples': '- are coronavirus cases declining in Philippines\\n- Are there any updates on Covid-19?\\n- can you die from corona virus\\n- Corona and its remergence.\\n- Covid19 post Philippines facts.\\n- Does each country have their own records for the Covid19 virus?\\n- Has the number of infected people decreased?\\n- how are cats exposed to corona virus\\n- how does the corona virus spread from human to human\\n- how many have been healed from corona virus\\n'},\n",
       "  {'intent': 'medication',\n",
       "   'examples': '- Are fruits, vegetables and herbs useful in fighting the coronavirus?\\n- Can I use antibiotics to help fight the virus\\n- Corona and turmeric.\\n- Covid19 intake of paracetamol is not sufficient.\\n- how has the covid 19 vaccine effected the test subjects\\n- I want information that cannot be used for corona\\n- Is there a cure?\\n- Is there any medicine I should not take for corona virus\\n- Should I take an aspirin?\\n- What drug shold I take\\n'},\n",
       "  {'intent': 'how_spreading',\n",
       "   'examples': '- How can corona be expaded\\n- How does Corona virus spread?\\n- How will the disease catch you from me or any other person?\\n- I want to know if the Corona Virus is airborne or not.\\n- Is covid-19 airborne?\\n- Is the virus airborne?\\n- Show me how does coronavirus spread in a population\\n- What are the modes of transmission for COVID-19?\\n- where are the us cases of corona virus\\n- Why is the virus being spread more and more?\\n'},\n",
       "  {'intent': 'name',\n",
       "   'examples': '- I am [Sara](name)\\n- My name [Sara](name)\\n'},\n",
       "  {'intent': 'greet',\n",
       "   'examples': \"- hey\\n- hello\\n- hi\\n- hello there\\n- good morning\\n- good evening\\n- moin\\n- hey there\\n- let's go\\n\"},\n",
       "  {'intent': 'goodbye',\n",
       "   'examples': '- good afternoon\\n- cu\\n- good by\\n- cee you later\\n- good night\\n- bye\\n- goodbye\\n- have a nice day\\n- see you around\\n'},\n",
       "  {'intent': 'bot_challenge',\n",
       "   'examples': '- are you a bot?\\n- are you a human?\\n- am I talking to a bot?\\n- am I talking to a human?\\n'}]}"
      ]
     },
     "execution_count": 22,
     "metadata": {},
     "output_type": "execute_result"
    }
   ],
   "source": [
    "# this is how the final dictionary will look like\n",
    "new_nlu_yml"
   ]
  },
  {
   "cell_type": "code",
   "execution_count": 12,
   "metadata": {},
   "outputs": [],
   "source": [
    "# write the YAML file\n",
    "with open(\"new_nlu.yaml\", 'w') as file:\n",
    "    tmp = yaml.dump(new_nlu_yml, file)"
   ]
  },
  {
   "cell_type": "code",
   "execution_count": 23,
   "metadata": {},
   "outputs": [
    {
     "data": {
      "text/plain": [
       "{'nlu': [{'examples': '- Are corona virus and COVID-19 different?\\n- Could you tell me more about COVID-19?\\n- Give me more information on coronavirus.\\n- I want to know about Covid\\n- is coronavirus fatal\\n- What do you know about coronavirus\\n- what makes a corona virus a coronavirus\\n- why is corona called corona virus\\n- Wondering about the corona Virus?\\n- what is covid 19\\n',\n",
       "   'intent': 'covid_intro'},\n",
       "  {'examples': '- Can you explain how Covid19 started?\\n- Can you tell me how this virus started?\\n- did coronavirus come from bats\\n- how coronavirus began\\n- How is coronavirus spreading?\\n- In which way did corona virus appear?\\n- Tell me where does coronavirus come from.\\n- What is the point of origin for the Corona virus?\\n- where coronavirus come from 2020\\n- Which city had the first case of the Corona virus?\\n',\n",
       "   'intent': 'covid_origin'},\n",
       "  {'examples': '- are covid-19 tests free\\n- Coronavirus and breathing.\\n- Detail me the symptoms of coronavirus.\\n- Do you experience high fever with corona virus?\\n- does covid-19 start with a runny nose\\n- how coronavirus is caused\\n- How does a person feel if infected with corona\\n- I want to learn more about covid symptoms\\n- Is runny nose a COVID-19 symptom?\\n- what are symtpoms of the corona virus\\n',\n",
       "   'intent': 'symptoms_info'},\n",
       "  {'examples': '- Are there doctor numbers listed?\\n- Coronavirus emergency contact number.\\n- Do you have the contacts?\\n- How do we reach out to relevant authorities during the pandemic?\\n- Is there a phone number I can call if I have questions?\\n- Show me emergency contact information for local authorities.\\n- what email address should I use if\\n- What is the number to call?\\n- Where should i go in case i have shown symptoms?\\n- Who do I have to call for an emergency?\\n',\n",
       "   'intent': 'emergency_contact'},\n",
       "  {'examples': \"- Are masks the only option for preventing Covid19?\\n- Do i have to wash my hands all the time?\\n- How can I stop spread of Covid19?\\n- I am wondering how I can protect myself from coronavirus.\\n- Is a mask necessary to avoid contracting COVID-19?\\n- Let's share the do's and don'ts for Covid19.\\n- Should I avoid touching things?\\n- Show me how to wear my mask.\\n- What can I do to avoid catching the virus?\\n- which mask can prevent the infection of corona virus\\n\",\n",
       "   'intent': 'precautions'},\n",
       "  {'examples': '- are coronavirus cases declining in Philippines\\n- Are there any updates on Covid-19?\\n- can you die from corona virus\\n- Corona and its remergence.\\n- Covid19 post Philippines facts.\\n- Does each country have their own records for the Covid19 virus?\\n- Has the number of infected people decreased?\\n- how are cats exposed to corona virus\\n- how does the corona virus spread from human to human\\n- how many have been healed from corona virus\\n',\n",
       "   'intent': 'current_numbers'},\n",
       "  {'examples': '- Are fruits, vegetables and herbs useful in fighting the coronavirus?\\n- Can I use antibiotics to help fight the virus\\n- Corona and turmeric.\\n- Covid19 intake of paracetamol is not sufficient.\\n- how has the covid 19 vaccine effected the test subjects\\n- I want information that cannot be used for corona\\n- Is there a cure?\\n- Is there any medicine I should not take for corona virus\\n- Should I take an aspirin?\\n- What drug shold I take\\n',\n",
       "   'intent': 'medication'},\n",
       "  {'examples': '- How can corona be expaded\\n- How does Corona virus spread?\\n- How will the disease catch you from me or any other person?\\n- I want to know if the Corona Virus is airborne or not.\\n- Is covid-19 airborne?\\n- Is the virus airborne?\\n- Show me how does coronavirus spread in a population\\n- What are the modes of transmission for COVID-19?\\n- where are the us cases of corona virus\\n- Why is the virus being spread more and more?\\n',\n",
       "   'intent': 'how_spreading'},\n",
       "  {'examples': '- I am [Sara](name)\\n- My name [Sara](name)\\n',\n",
       "   'intent': 'name'},\n",
       "  {'examples': \"- hey\\n- hello\\n- hi\\n- hello there\\n- good morning\\n- good evening\\n- moin\\n- hey there\\n- let's go\\n\",\n",
       "   'intent': 'greet'},\n",
       "  {'examples': '- good afternoon\\n- cu\\n- good by\\n- cee you later\\n- good night\\n- bye\\n- goodbye\\n- have a nice day\\n- see you around\\n',\n",
       "   'intent': 'goodbye'},\n",
       "  {'examples': '- are you a bot?\\n- are you a human?\\n- am I talking to a bot?\\n- am I talking to a human?\\n',\n",
       "   'intent': 'bot_challenge'}],\n",
       " 'version': '2.0'}"
      ]
     },
     "execution_count": 23,
     "metadata": {},
     "output_type": "execute_result"
    }
   ],
   "source": [
    "# Let's see how it will look like if we read it as a yaml file\n",
    "\n",
    "with open(\"new_nlu.yaml\", 'r') as file:\n",
    "    new_nlu_yaml_tmp = yaml.load(file, Loader=yaml.FullLoader)\n",
    "    \n",
    "new_nlu_yaml_tmp"
   ]
  },
  {
   "cell_type": "markdown",
   "metadata": {},
   "source": [
    "# Responses"
   ]
  },
  {
   "cell_type": "code",
   "execution_count": 15,
   "metadata": {},
   "outputs": [],
   "source": [
    "responses_df = pd.read_excel(\"chatbot_covid.xlsx\", sheet_name=\"responses\")"
   ]
  },
  {
   "cell_type": "code",
   "execution_count": 24,
   "metadata": {},
   "outputs": [
    {
     "data": {
      "text/html": [
       "<div>\n",
       "<style scoped>\n",
       "    .dataframe tbody tr th:only-of-type {\n",
       "        vertical-align: middle;\n",
       "    }\n",
       "\n",
       "    .dataframe tbody tr th {\n",
       "        vertical-align: top;\n",
       "    }\n",
       "\n",
       "    .dataframe thead th {\n",
       "        text-align: right;\n",
       "    }\n",
       "</style>\n",
       "<table border=\"1\" class=\"dataframe\">\n",
       "  <thead>\n",
       "    <tr style=\"text-align: right;\">\n",
       "      <th></th>\n",
       "      <th>responses</th>\n",
       "      <th>text</th>\n",
       "    </tr>\n",
       "  </thead>\n",
       "  <tbody>\n",
       "    <tr>\n",
       "      <th>0</th>\n",
       "      <td>utter_covid_intro</td>\n",
       "      <td>The COVID-19 pandemic, also known as the coron...</td>\n",
       "    </tr>\n",
       "    <tr>\n",
       "      <th>1</th>\n",
       "      <td>utter_covid_origin</td>\n",
       "      <td>The virus that caused the outbreak is known as...</td>\n",
       "    </tr>\n",
       "    <tr>\n",
       "      <th>2</th>\n",
       "      <td>utter_symptoms_info</td>\n",
       "      <td>Symptoms of COVID-19 are variable, ranging fro...</td>\n",
       "    </tr>\n",
       "    <tr>\n",
       "      <th>3</th>\n",
       "      <td>utter_emergency_contact</td>\n",
       "      <td>DOH launched the DOH COVID-19 emergency hotlin...</td>\n",
       "    </tr>\n",
       "    <tr>\n",
       "      <th>4</th>\n",
       "      <td>utter_precautions</td>\n",
       "      <td>To prevent infection and to slow transmission ...</td>\n",
       "    </tr>\n",
       "    <tr>\n",
       "      <th>5</th>\n",
       "      <td>utter_current_numbers</td>\n",
       "      <td>You can find updated Phlippines Covid-19 numbe...</td>\n",
       "    </tr>\n",
       "    <tr>\n",
       "      <th>6</th>\n",
       "      <td>utter_medication</td>\n",
       "      <td>There is no specific, effective treatment or c...</td>\n",
       "    </tr>\n",
       "    <tr>\n",
       "      <th>7</th>\n",
       "      <td>utter_how_spreading</td>\n",
       "      <td>COVID-19 spreads when an infected person breat...</td>\n",
       "    </tr>\n",
       "    <tr>\n",
       "      <th>8</th>\n",
       "      <td>utter_name</td>\n",
       "      <td>Nice to meet you, (name)!</td>\n",
       "    </tr>\n",
       "    <tr>\n",
       "      <th>9</th>\n",
       "      <td>utter_greet</td>\n",
       "      <td>Hello!</td>\n",
       "    </tr>\n",
       "    <tr>\n",
       "      <th>10</th>\n",
       "      <td>utter_bot_challenge</td>\n",
       "      <td>Yes, I am a bot</td>\n",
       "    </tr>\n",
       "    <tr>\n",
       "      <th>11</th>\n",
       "      <td>utter_goodbye</td>\n",
       "      <td>Goodbye!</td>\n",
       "    </tr>\n",
       "  </tbody>\n",
       "</table>\n",
       "</div>"
      ],
      "text/plain": [
       "                  responses                                               text\n",
       "0        utter_covid_intro   The COVID-19 pandemic, also known as the coron...\n",
       "1        utter_covid_origin  The virus that caused the outbreak is known as...\n",
       "2       utter_symptoms_info  Symptoms of COVID-19 are variable, ranging fro...\n",
       "3   utter_emergency_contact  DOH launched the DOH COVID-19 emergency hotlin...\n",
       "4         utter_precautions  To prevent infection and to slow transmission ...\n",
       "5     utter_current_numbers  You can find updated Phlippines Covid-19 numbe...\n",
       "6          utter_medication  There is no specific, effective treatment or c...\n",
       "7       utter_how_spreading  COVID-19 spreads when an infected person breat...\n",
       "8                utter_name                          Nice to meet you, (name)!\n",
       "9               utter_greet                                             Hello!\n",
       "10      utter_bot_challenge                                    Yes, I am a bot\n",
       "11            utter_goodbye                                           Goodbye!"
      ]
     },
     "execution_count": 24,
     "metadata": {},
     "output_type": "execute_result"
    }
   ],
   "source": [
    "responses_df"
   ]
  },
  {
   "cell_type": "code",
   "execution_count": 20,
   "metadata": {},
   "outputs": [
    {
     "name": "stdout",
     "output_type": "stream",
     "text": [
      "Found response:  utter_covid_intro \n",
      "Found text:  The COVID-19 pandemic, also known as the coronavirus pandemic, is an ongoing global pandemic of coronavirus disease 2019 (COVID-19) caused by severe acute respiratory syndrome coronavirus 2 (SARS-CoV-2).\n",
      "Found response:  utter_covid_origin\n",
      "Found text:  The virus that caused the outbreak is known as severe acute respiratory syndrome coronavirus 2 (SARS-CoV-2), a newly discovered virus closely related to bat coronaviruses, pangolin coronaviruses, and SARS-CoV. The virus was first identified in December 2019 in Wuhan, China.\n",
      "Found response:  utter_symptoms_info\n",
      "Found text:  Symptoms of COVID-19 are variable, ranging from mild symptoms to severe illness. Common symptoms include headache, loss of smell and taste, nasal congestion and runny nose, cough, muscle pain, sore throat, fever, diarrhea, and breathing difficulties.\n",
      "Found response:  utter_emergency_contact\n",
      "Found text:  DOH launched the DOH COVID-19 emergency hotlines 02-894-COVID (02-894-26843) and 1555 in partnership with the National Emergency Hotline of the DILG, and PLDT and its wireless subsidiary Smart Communications Inc.\n",
      "Found response:  utter_precautions\n",
      "Found text:  To prevent infection and to slow transmission of COVID-19, do the following: Wash your hands regularly with soap and water, or clean them with alcohol-based hand rub, Maintain at least 1 metre distance between you and people coughing or sneezing, Avoid touching your face, Cover your mouth and nose when coughing or sneezing, Stay home if you feel unwell.\n",
      "Refrain from smoking and other activities that weaken the lungs, Practice physical distancing by avoiding unnecessary travel and staying away from large groups of people.\n",
      "Found response:  utter_current_numbers\n",
      "Found text:  You can find updated Phlippines Covid-19 numbers here: https://doh.gov.ph/2019-nCoV\n",
      "Found response:  utter_medication\n",
      "Found text:  There is no specific, effective treatment or cure for coronavirus disease 2019 (COVID-19), the disease caused by the SARS-CoV-2 virus. Thus, the cornerstone of management of COVID-19 is supportive care, which includes treatment to relieve symptoms, fluid therapy, oxygen support and prone positioning as needed, and medications or devices to support other affected vital organs.\n",
      "Found response:  utter_how_spreading\n",
      "Found text:  COVID-19 spreads when an infected person breathes out droplets and very small particles that contain the virus. These droplets and particles can be breathed in by other people or land on their eyes, noses, or mouth. In some circumstances, they may contaminate surfaces they touch. People who are closer than 6 feet from the infected person are most likely to get infected.\n",
      "Found response:  utter_name\n",
      "Found text:  Nice to meet you, (name)!\n",
      "Found response:  utter_greet\n",
      "Found text:  Hello!\n",
      "Found response:  utter_bot_challenge\n",
      "Found text:  Yes, I am a bot\n",
      "Found response:  utter_goodbye\n",
      "Found text:  Goodbye!\n"
     ]
    }
   ],
   "source": [
    "new_responses_yml = {}\n",
    "new_responses_yml['version'] = '2.0'\n",
    "\n",
    "responses_list = []\n",
    "\n",
    "# iterate thru all intents\n",
    "for response in responses_df['responses'].unique():\n",
    "    \n",
    "    response_dict = {}\n",
    "    \n",
    "    response_dict['responses'] = str(response).strip()\n",
    "    \n",
    "    tmp_df = responses_df[responses_df['responses']==response]\n",
    "    print(\"Found response: \", response)\n",
    "    \n",
    "    example_txt = \"\"\n",
    "    for index, row in tmp_df.iterrows():\n",
    "        tmp_txt = row['text']\n",
    "        print(\"Found text: \", tmp_txt)\n",
    "        \n",
    "        tmp_txt = \"\".join([\"- \",tmp_txt.strip(),\"\\n\"])\n",
    "        example_txt = \"\".join([example_txt,tmp_txt])\n",
    "\n",
    "    response_dict['examples'] = example_txt\n",
    "    responses_list.append(response_dict)\n",
    "new_responses_yml['responses'] = responses_list"
   ]
  },
  {
   "cell_type": "code",
   "execution_count": 25,
   "metadata": {},
   "outputs": [
    {
     "data": {
      "text/plain": [
       "{'version': '2.0',\n",
       " 'responses': [{'responses': 'utter_covid_intro',\n",
       "   'examples': '- The COVID-19 pandemic, also known as the coronavirus pandemic, is an ongoing global pandemic of coronavirus disease 2019 (COVID-19) caused by severe acute respiratory syndrome coronavirus 2 (SARS-CoV-2).\\n'},\n",
       "  {'responses': 'utter_covid_origin',\n",
       "   'examples': '- The virus that caused the outbreak is known as severe acute respiratory syndrome coronavirus 2 (SARS-CoV-2), a newly discovered virus closely related to bat coronaviruses, pangolin coronaviruses, and SARS-CoV. The virus was first identified in December 2019 in Wuhan, China.\\n'},\n",
       "  {'responses': 'utter_symptoms_info',\n",
       "   'examples': '- Symptoms of COVID-19 are variable, ranging from mild symptoms to severe illness. Common symptoms include headache, loss of smell and taste, nasal congestion and runny nose, cough, muscle pain, sore throat, fever, diarrhea, and breathing difficulties.\\n'},\n",
       "  {'responses': 'utter_emergency_contact',\n",
       "   'examples': '- DOH launched the DOH COVID-19 emergency hotlines 02-894-COVID (02-894-26843) and 1555 in partnership with the National Emergency Hotline of the DILG, and PLDT and its wireless subsidiary Smart Communications Inc.\\n'},\n",
       "  {'responses': 'utter_precautions',\n",
       "   'examples': '- To prevent infection and to slow transmission of COVID-19, do the following: Wash your hands regularly with soap and water, or clean them with alcohol-based hand rub, Maintain at least 1 metre distance between you and people coughing or sneezing, Avoid touching your face, Cover your mouth and nose when coughing or sneezing, Stay home if you feel unwell.\\nRefrain from smoking and other activities that weaken the lungs, Practice physical distancing by avoiding unnecessary travel and staying away from large groups of people.\\n'},\n",
       "  {'responses': 'utter_current_numbers',\n",
       "   'examples': '- You can find updated Phlippines Covid-19 numbers here: https://doh.gov.ph/2019-nCoV\\n'},\n",
       "  {'responses': 'utter_medication',\n",
       "   'examples': '- There is no specific, effective treatment or cure for coronavirus disease 2019 (COVID-19), the disease caused by the SARS-CoV-2 virus. Thus, the cornerstone of management of COVID-19 is supportive care, which includes treatment to relieve symptoms, fluid therapy, oxygen support and prone positioning as needed, and medications or devices to support other affected vital organs.\\n'},\n",
       "  {'responses': 'utter_how_spreading',\n",
       "   'examples': '- COVID-19 spreads when an infected person breathes out droplets and very small particles that contain the virus. These droplets and particles can be breathed in by other people or land on their eyes, noses, or mouth. In some circumstances, they may contaminate surfaces they touch. People who are closer than 6 feet from the infected person are most likely to get infected.\\n'},\n",
       "  {'responses': 'utter_name', 'examples': '- Nice to meet you, (name)!\\n'},\n",
       "  {'responses': 'utter_greet', 'examples': '- Hello!\\n'},\n",
       "  {'responses': 'utter_bot_challenge', 'examples': '- Yes, I am a bot\\n'},\n",
       "  {'responses': 'utter_goodbye', 'examples': '- Goodbye!\\n'}]}"
      ]
     },
     "execution_count": 25,
     "metadata": {},
     "output_type": "execute_result"
    }
   ],
   "source": [
    "new_responses_yml"
   ]
  },
  {
   "cell_type": "code",
   "execution_count": 26,
   "metadata": {},
   "outputs": [],
   "source": [
    "with open(\"new_responses.yaml\", 'w') as file:\n",
    "    tmp = yaml.dump(new_responses_yml, file)"
   ]
  },
  {
   "cell_type": "code",
   "execution_count": 28,
   "metadata": {},
   "outputs": [
    {
     "data": {
      "text/plain": [
       "{'responses': [{'examples': '- The COVID-19 pandemic, also known as the coronavirus pandemic, is an ongoing global pandemic of coronavirus disease 2019 (COVID-19) caused by severe acute respiratory syndrome coronavirus 2 (SARS-CoV-2).\\n',\n",
       "   'responses': 'utter_covid_intro'},\n",
       "  {'examples': '- The virus that caused the outbreak is known as severe acute respiratory syndrome coronavirus 2 (SARS-CoV-2), a newly discovered virus closely related to bat coronaviruses, pangolin coronaviruses, and SARS-CoV. The virus was first identified in December 2019 in Wuhan, China.\\n',\n",
       "   'responses': 'utter_covid_origin'},\n",
       "  {'examples': '- Symptoms of COVID-19 are variable, ranging from mild symptoms to severe illness. Common symptoms include headache, loss of smell and taste, nasal congestion and runny nose, cough, muscle pain, sore throat, fever, diarrhea, and breathing difficulties.\\n',\n",
       "   'responses': 'utter_symptoms_info'},\n",
       "  {'examples': '- DOH launched the DOH COVID-19 emergency hotlines 02-894-COVID (02-894-26843) and 1555 in partnership with the National Emergency Hotline of the DILG, and PLDT and its wireless subsidiary Smart Communications Inc.\\n',\n",
       "   'responses': 'utter_emergency_contact'},\n",
       "  {'examples': '- To prevent infection and to slow transmission of COVID-19, do the following: Wash your hands regularly with soap and water, or clean them with alcohol-based hand rub, Maintain at least 1 metre distance between you and people coughing or sneezing, Avoid touching your face, Cover your mouth and nose when coughing or sneezing, Stay home if you feel unwell.\\nRefrain from smoking and other activities that weaken the lungs, Practice physical distancing by avoiding unnecessary travel and staying away from large groups of people.\\n',\n",
       "   'responses': 'utter_precautions'},\n",
       "  {'examples': '- You can find updated Phlippines Covid-19 numbers here: https://doh.gov.ph/2019-nCoV\\n',\n",
       "   'responses': 'utter_current_numbers'},\n",
       "  {'examples': '- There is no specific, effective treatment or cure for coronavirus disease 2019 (COVID-19), the disease caused by the SARS-CoV-2 virus. Thus, the cornerstone of management of COVID-19 is supportive care, which includes treatment to relieve symptoms, fluid therapy, oxygen support and prone positioning as needed, and medications or devices to support other affected vital organs.\\n',\n",
       "   'responses': 'utter_medication'},\n",
       "  {'examples': '- COVID-19 spreads when an infected person breathes out droplets and very small particles that contain the virus. These droplets and particles can be breathed in by other people or land on their eyes, noses, or mouth. In some circumstances, they may contaminate surfaces they touch. People who are closer than 6 feet from the infected person are most likely to get infected.\\n',\n",
       "   'responses': 'utter_how_spreading'},\n",
       "  {'examples': '- Nice to meet you, (name)!\\n', 'responses': 'utter_name'},\n",
       "  {'examples': '- Hello!\\n', 'responses': 'utter_greet'},\n",
       "  {'examples': '- Yes, I am a bot\\n', 'responses': 'utter_bot_challenge'},\n",
       "  {'examples': '- Goodbye!\\n', 'responses': 'utter_goodbye'}],\n",
       " 'version': '2.0'}"
      ]
     },
     "execution_count": 28,
     "metadata": {},
     "output_type": "execute_result"
    }
   ],
   "source": [
    "# Let's see how it will look like if we read it as a yaml file\n",
    "\n",
    "with open(\"new_responses.yaml\", 'r') as file:\n",
    "    new_responses_yaml_tmp = yaml.load(file, Loader=yaml.FullLoader)\n",
    "    \n",
    "new_responses_yaml_tmp"
   ]
  },
  {
   "cell_type": "markdown",
   "metadata": {},
   "source": [
    "# Json sample"
   ]
  },
  {
   "cell_type": "code",
   "execution_count": 1,
   "metadata": {},
   "outputs": [],
   "source": [
    "import json"
   ]
  },
  {
   "cell_type": "code",
   "execution_count": 4,
   "metadata": {},
   "outputs": [],
   "source": [
    "\n",
    "with open('it_helpdesk.json', encoding='utf-8') as f:\n",
    "    it_helpdesk_json = json.load(f)"
   ]
  },
  {
   "cell_type": "code",
   "execution_count": 5,
   "metadata": {},
   "outputs": [
    {
     "data": {
      "text/plain": [
       "{'intents': [{'tag': 'greeting',\n",
       "   'patterns': ['Hi there',\n",
       "    'Hello',\n",
       "    'Hola',\n",
       "    'Hey',\n",
       "    'Hi',\n",
       "    'Hello',\n",
       "    'Good morning',\n",
       "    'Good Evening'],\n",
       "   'responses': ['Hello, Welcome to Our IT Chatbot',\n",
       "    'Good to see you, Welcome to our IT Chatbot',\n",
       "    'Hi there, how can I help?'],\n",
       "   'context': ['']},\n",
       "  {'tag': 'goodbye',\n",
       "   'patterns': ['Bye',\n",
       "    'See you later',\n",
       "    'Goodbye',\n",
       "    'Nice chatting to you, bye',\n",
       "    'Till next time',\n",
       "    'Bye Chatbot'],\n",
       "   'responses': ['See you!',\n",
       "    'Have a nice day',\n",
       "    'Bye! Come back again soon.',\n",
       "    'Happy to help'],\n",
       "   'context': ['']},\n",
       "  {'tag': 'thanks',\n",
       "   'patterns': ['Thanks',\n",
       "    'Thank you',\n",
       "    \"That's helpful\",\n",
       "    'Awesome, thanks',\n",
       "    'Thanks for helping me'],\n",
       "   'responses': ['Happy to help! Any other issues?',\n",
       "    'Any time! Any other issues I can help with?',\n",
       "    'My pleasure! Any other Issues I can help with?'],\n",
       "   'context': ['']},\n",
       "  {'tag': 'noanswer',\n",
       "   'patterns': ['q', 'random'],\n",
       "   'responses': [\"Sorry, can't understand you\",\n",
       "    'Please give me more info',\n",
       "    'Not sure I understand'],\n",
       "   'context': ['']},\n",
       "  {'tag': 'options',\n",
       "   'patterns': ['How you could help me?',\n",
       "    'What you can do?',\n",
       "    'What help you provide?',\n",
       "    'How you can be helpful?',\n",
       "    'What support is offered',\n",
       "    'What services do you provide?',\n",
       "    'What can you help me with'],\n",
       "   'responses': ['I can guide you through\\n 1)Password Reset\\n2) Trouble-Shooting issues\\n3) Virus Issues\\n4) Printing Issues\\n5) many more IT issues',\n",
       "    'Offering support for \\n1) Password Reset\\n2) Trouble-Shooting issues\\n3) Virus Issues\\n4) Printer issues\\n5) Other IT tasks'],\n",
       "   'context': ['']},\n",
       "  {'tag': 'Password Reset',\n",
       "   'patterns': ['How to reset my password?',\n",
       "    'I’m unable to log in!',\n",
       "    'My Password is Lost, need to Reset.',\n",
       "    'Open password reset module',\n",
       "    'Reset my password',\n",
       "    'Forgot password',\n",
       "    'how do i reset my password?',\n",
       "    'Hi,I have problem with my password',\n",
       "    'Problem with Login ID'],\n",
       "   'responses': ['Confirm your email address'],\n",
       "   'context_set': ['email']},\n",
       "  {'tag': 'E-mail id',\n",
       "   'patterns': ['@gmail.com', '@outlook.com', '@yahoo.com', '@hotmail.in'],\n",
       "   'responses': ['The reset pin has been sent on your registered mobile number'],\n",
       "   'context_filter': ['email']},\n",
       "  {'tag': 'Blue Sreen issue',\n",
       "   'patterns': ['I’ve got the dreaded blue screen of death!',\n",
       "    'blue screen issue'],\n",
       "   'responses': ['Simply rebooting can fix the blue screen of death (or STOP error, as it is otherwise known).',\n",
       "    'rebooting can help the issue'],\n",
       "   'context': ['']},\n",
       "  {'tag': 'Deleted files',\n",
       "   'patterns': ['I deleted some important files!',\n",
       "    'Find my deleted files',\n",
       "    'removed neccesary files',\n",
       "    'I by mistake deleted my folders',\n",
       "    'Can you help me with deleted files issue',\n",
       "    'I am unable to find my files'],\n",
       "   'responses': ['The first step is to check the recycle bin. If that fails, you can contact your IT Support partner.'],\n",
       "   'context': ['search_pharmacy_by_name']},\n",
       "  {'tag': 'Unsaved Document',\n",
       "   'patterns': ['I just closed my document without saving!',\n",
       "    'Unsaved Document',\n",
       "    'Forgot to save my work'],\n",
       "   'responses': ['However, all your work is not definitely lost. If you have Auto-Recover options enabled in Microsoft Office, then there are some easy steps to recover your work.\\nIf not, you can also search for Word backup files by clicking “open”, “computer” and then browsing to the folder where the file was last saved.\\nYou may also be able to find your file by performing a search on your computer for temporary files with a .tmp file extension or a ~ prefix.'],\n",
       "   'context': ['']},\n",
       "  {'tag': 'Slow Computer',\n",
       "   'patterns': ['Slow Computer',\n",
       "    'My computer is running too slowly!',\n",
       "    'Computer is not fast'],\n",
       "   'responses': ['Here are my 10 quick tips for things you can do to speed up your PC\\n1. Cut down on start-up items\\n2. Uninstall programs you no longer use\\n3. Clean up your hard drive\\n4. Clean your browser\\n5. Scan for and remove malware\\n6. Adjust for better performance\\n7. Defrag your hard drive\\n8. Add more RAM.\\n9. Upgrade to an SSD drive\\n10. Don’t shut down, use Hibernate '],\n",
       "   'context': ['']},\n",
       "  {'tag': 'Unexpected Shut Down',\n",
       "   'patterns': ['My computer just shut down unexpectedly!',\n",
       "    'computer shut down unexpected',\n",
       "    'Computer keeps shutting down',\n",
       "    'computer shutdown',\n",
       "    'pc shutdown'],\n",
       "   'responses': ['This could be related to overheating. Check your computer for dust, and make sure it is in a cool and ventilated place. If this is not the issue, then it is likely a virus problem. Disconnect the PC from any networks and call your IT Support experts!'],\n",
       "   'context': ['search_hospital_by_type']},\n",
       "  {'tag': 'Printing issues',\n",
       "   'patterns': ['I can’t print anything!',\n",
       "    'Printing issue',\n",
       "    'My printer isn’t printing',\n",
       "    'Can’t seem to use my department’s printer'],\n",
       "   'responses': ['\\nIf its not an obvious issue, there may be a connection problem-the printer is probably not connected to the network properly, so call your IT Support helpdesk for help.'],\n",
       "   'context': ['']},\n",
       "  {'tag': 'Vague',\n",
       "   'patterns': ['Nothing works',\n",
       "    'I have issues',\n",
       "    'I need Help',\n",
       "    'I have problems'],\n",
       "   'responses': ['Hey, I cant seems that you have not listed you Issue here.\\n I can help you out with the following issues: \\n 1)Password Reset\\n 2) Trouble-Shooting issues\\n 3) Virus Issues \\n 4)Printing Issues and many more IT issues'],\n",
       "   'context': ['']},\n",
       "  {'tag': 'Virus',\n",
       "   'patterns': ['I have virus in my laptop',\n",
       "    'Virus issues',\n",
       "    'Computer has a virus',\n",
       "    'I have problems'],\n",
       "   'responses': ['A detailed step by step guide to remove the virus from the computer has been provided on the following link: \\nhttps://www.easeus.com/file-recovery/remove-virus-without-antivirus.html \\nand\\nhttps://www.pcworld.com/article/243818/how-to-remove-malware-from-your-windows-pc.html\\nIf the issues are still there, consult the IT team'],\n",
       "   'context': ['']},\n",
       "  {'tag': 'Mouse',\n",
       "   'patterns': ['My Mouse is not working',\n",
       "    'The mouse is dead',\n",
       "    'Bluetooth mouse not working',\n",
       "    'Mouse issues',\n",
       "    'trackpad not working',\n",
       "    'I need help with trackpad problems'],\n",
       "   'responses': ['a) If you encounter a mouse problem, you should first try these options:\\n1) If it is a first-time issue, restarting your PC can resolve the issue instantly.\\n2) Confirm that the mouse or the wireless adaptor is firmly connected to the PC.\\n3) You may also try to unplug the mouse cable or the wireless adaptor and reconnect using a different port.\\n4)Check the mouse and the ports for damages and even try the mouse on a different computer.\\n4 If none of these solves the problem, you can now proceed to other solutions.\\nb) Troubleshoot Hardware and Devices\\nc) Updating Incompatible Mouse Drivers\\nd) Roll Back or Reinstall Mouse Drivers\\ne) Deactivate Enhanced Pointer Precision\\nf) Adjusting the Mouse Sensitivity\\ng) Configure Touchpad Delay\\nh) Disable Touchpad'],\n",
       "   'context': ['']},\n",
       "  {'tag': 'USB',\n",
       "   'patterns': ['My computer does not recognise my USB device!',\n",
       "    'Okay so i need help with pendrive',\n",
       "    'USB issues',\n",
       "    'Pendrive issues',\n",
       "    'pendrive is not detected'],\n",
       "   'responses': ['First things to check are:\\n1) Does the device work in a different USB port on the machine?\\n2) Are other devices recognised in that port?\\n3) Does the device work on another user’s machine?\\n If you have tried these troubleshooting methods and still no luck, then your IT support help-desk can proceed with some more in-depth troubleshooting.'],\n",
       "   'context': ['']},\n",
       "  {'tag': 'Slow Internet',\n",
       "   'patterns': ['My internet is really slow!',\n",
       "    'slow internet',\n",
       "    'Cannot connect to Internet',\n",
       "    'Internet is not fast',\n",
       "    'My Wi-Fi keeps dropping'],\n",
       "   'responses': [\"If you're connecting wirelessly, then the location may be the problem. The signal is not necessarily strong in all corners of the building. Similarly, you could just be too far away. If this is not the issue, then spyware or viruses are a likely cause.\"],\n",
       "   'context': ['']}]}"
      ]
     },
     "execution_count": 5,
     "metadata": {},
     "output_type": "execute_result"
    }
   ],
   "source": [
    "it_helpdesk_json"
   ]
  },
  {
   "cell_type": "code",
   "execution_count": 6,
   "metadata": {},
   "outputs": [
    {
     "data": {
      "text/plain": [
       "dict_keys(['intents'])"
      ]
     },
     "execution_count": 6,
     "metadata": {},
     "output_type": "execute_result"
    }
   ],
   "source": [
    "it_helpdesk_json.keys()"
   ]
  },
  {
   "cell_type": "code",
   "execution_count": 10,
   "metadata": {},
   "outputs": [
    {
     "data": {
      "text/plain": [
       "18"
      ]
     },
     "execution_count": 10,
     "metadata": {},
     "output_type": "execute_result"
    }
   ],
   "source": [
    "len(it_helpdesk_json['intents'])"
   ]
  },
  {
   "cell_type": "code",
   "execution_count": 12,
   "metadata": {},
   "outputs": [
    {
     "data": {
      "text/plain": [
       "dict_keys(['tag', 'patterns', 'responses', 'context'])"
      ]
     },
     "execution_count": 12,
     "metadata": {},
     "output_type": "execute_result"
    }
   ],
   "source": [
    "it_helpdesk_json['intents'][0].keys()"
   ]
  },
  {
   "cell_type": "code",
   "execution_count": 13,
   "metadata": {},
   "outputs": [
    {
     "data": {
      "text/plain": [
       "'greeting'"
      ]
     },
     "execution_count": 13,
     "metadata": {},
     "output_type": "execute_result"
    }
   ],
   "source": [
    "it_helpdesk_json['intents'][0]['tag']"
   ]
  },
  {
   "cell_type": "code",
   "execution_count": 14,
   "metadata": {},
   "outputs": [
    {
     "data": {
      "text/plain": [
       "['Hi there',\n",
       " 'Hello',\n",
       " 'Hola',\n",
       " 'Hey',\n",
       " 'Hi',\n",
       " 'Hello',\n",
       " 'Good morning',\n",
       " 'Good Evening']"
      ]
     },
     "execution_count": 14,
     "metadata": {},
     "output_type": "execute_result"
    }
   ],
   "source": [
    "it_helpdesk_json['intents'][0]['patterns']"
   ]
  },
  {
   "cell_type": "code",
   "execution_count": 15,
   "metadata": {},
   "outputs": [
    {
     "data": {
      "text/plain": [
       "['Hello, Welcome to Our IT Chatbot',\n",
       " 'Good to see you, Welcome to our IT Chatbot',\n",
       " 'Hi there, how can I help?']"
      ]
     },
     "execution_count": 15,
     "metadata": {},
     "output_type": "execute_result"
    }
   ],
   "source": [
    "it_helpdesk_json['intents'][0]['responses']"
   ]
  },
  {
   "cell_type": "code",
   "execution_count": null,
   "metadata": {},
   "outputs": [],
   "source": []
  }
 ],
 "metadata": {
  "kernelspec": {
   "display_name": "Python 3",
   "language": "python",
   "name": "python3"
  },
  "language_info": {
   "codemirror_mode": {
    "name": "ipython",
    "version": 3
   },
   "file_extension": ".py",
   "mimetype": "text/x-python",
   "name": "python",
   "nbconvert_exporter": "python",
   "pygments_lexer": "ipython3",
   "version": "3.8.5"
  }
 },
 "nbformat": 4,
 "nbformat_minor": 4
}
